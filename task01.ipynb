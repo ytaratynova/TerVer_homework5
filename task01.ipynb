{
 "cells": [
  {
   "cell_type": "code",
   "execution_count": null,
   "id": "52c28493",
   "metadata": {},
   "outputs": [],
   "source": [
    "# Когда используется критерий Стьюдента, а когда Z –критерий?"
   ]
  },
  {
   "cell_type": "code",
   "execution_count": null,
   "id": "4196af70",
   "metadata": {},
   "outputs": [],
   "source": [
    "# Оба критерия используются при нормальном распределнии. \n",
    "# Z критерий используем при известном среднем квадратичном отклонении всей генеральной совокупности.\n",
    "# Если сигма генеральной совокупности неизвестна, то используем критерий Стьюдента."
   ]
  }
 ],
 "metadata": {
  "kernelspec": {
   "display_name": "Python 3 (ipykernel)",
   "language": "python",
   "name": "python3"
  },
  "language_info": {
   "codemirror_mode": {
    "name": "ipython",
    "version": 3
   },
   "file_extension": ".py",
   "mimetype": "text/x-python",
   "name": "python",
   "nbconvert_exporter": "python",
   "pygments_lexer": "ipython3",
   "version": "3.10.9"
  }
 },
 "nbformat": 4,
 "nbformat_minor": 5
}
