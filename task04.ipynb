{
 "cells": [
  {
   "cell_type": "code",
   "execution_count": 1,
   "id": "6e974891",
   "metadata": {},
   "outputs": [],
   "source": [
    "# Есть ли статистически значимые различия в росте\n",
    "# дочерей?\n",
    "# Рост матерей 172, 177, 158, 170, 178,175, 164, 160, 169, 165\n",
    "# Рост взрослых дочерей: 173, 175, 162, 174, 175, 168, 155, 170, 160, 163"
   ]
  },
  {
   "cell_type": "code",
   "execution_count": 2,
   "id": "998d47a0",
   "metadata": {},
   "outputs": [],
   "source": [
    "# H0: M1(x) = M2(X)\n",
    "# H1: M1(x) <> M2(X)"
   ]
  },
  {
   "cell_type": "code",
   "execution_count": 3,
   "id": "fb64f4b2",
   "metadata": {},
   "outputs": [],
   "source": [
    "import numpy as np\n",
    "from scipy import stats"
   ]
  },
  {
   "cell_type": "code",
   "execution_count": 4,
   "id": "931644f1",
   "metadata": {},
   "outputs": [],
   "source": [
    "mothers = np.array([172, 177, 158, 170, 178,175, 164, 160, 169, 165])\n",
    "daughters = np.array([173, 175, 162, 174, 175, 168, 155, 170, 160, 163])"
   ]
  },
  {
   "cell_type": "code",
   "execution_count": 5,
   "id": "feda33ea",
   "metadata": {},
   "outputs": [
    {
     "data": {
      "text/plain": [
       "TtestResult(statistic=0.6648478531431979, pvalue=0.5228168632983574, df=9)"
      ]
     },
     "execution_count": 5,
     "metadata": {},
     "output_type": "execute_result"
    }
   ],
   "source": [
    "test = stats.ttest_rel(mothers, daughters)\n",
    "test"
   ]
  },
  {
   "cell_type": "code",
   "execution_count": null,
   "id": "00897fc2",
   "metadata": {},
   "outputs": [],
   "source": [
    "# Поскольку p-значение ( 0.5228168632983574 ) больше 0.05, мы  не отвергаем нулевую гипотезу. \n",
    "# Средний рост матерей не отличается от среднего роста их взрослых дочерей"
   ]
  }
 ],
 "metadata": {
  "kernelspec": {
   "display_name": "Python 3 (ipykernel)",
   "language": "python",
   "name": "python3"
  },
  "language_info": {
   "codemirror_mode": {
    "name": "ipython",
    "version": 3
   },
   "file_extension": ".py",
   "mimetype": "text/x-python",
   "name": "python",
   "nbconvert_exporter": "python",
   "pygments_lexer": "ipython3",
   "version": "3.10.9"
  }
 },
 "nbformat": 4,
 "nbformat_minor": 5
}
