{
 "cells": [
  {
   "cell_type": "code",
   "execution_count": 1,
   "id": "42813414",
   "metadata": {},
   "outputs": [],
   "source": [
    "# Проведите тест гипотезы. Утверждается, что шарики для подшипников, изготовленные\n",
    "# автоматическим станком, имеют средний диаметр 17 мм.\n",
    "# Используя односторонний критерий с α=0,05, проверить эту гипотезу, если в выборке из\n",
    "# n=100 шариков средний диаметр\n",
    "# оказался равным 17.5 мм, а дисперсия известна и равна 4 кв. мм."
   ]
  },
  {
   "cell_type": "code",
   "execution_count": 2,
   "id": "89f1fbde",
   "metadata": {},
   "outputs": [],
   "source": [
    "# H0: m = 17\n",
    "# H1: m > 17"
   ]
  },
  {
   "cell_type": "code",
   "execution_count": 8,
   "id": "a5864b02",
   "metadata": {},
   "outputs": [
    {
     "name": "stdout",
     "output_type": "stream",
     "text": [
      "2.5\n"
     ]
    }
   ],
   "source": [
    "# находим z(н)\n",
    "z = (17.5 - 17)/(2/10)\n",
    "print(z)"
   ]
  },
  {
   "cell_type": "code",
   "execution_count": 9,
   "id": "679006ab",
   "metadata": {},
   "outputs": [],
   "source": [
    "# z(кр) находим из таблицы. Для α=0.05, а критическая область правостороння используем 1 - alpha = > z(кр) = 1.645"
   ]
  },
  {
   "cell_type": "code",
   "execution_count": 12,
   "id": "1f51b755",
   "metadata": {},
   "outputs": [],
   "source": [
    "# Исходя из полученных данных, гипотезу HO отвергаем. \n",
    "# Шарики для подшипников, изготовленные станком имебт средний размер более 17мм."
   ]
  },
  {
   "cell_type": "code",
   "execution_count": null,
   "id": "3766ba68",
   "metadata": {},
   "outputs": [],
   "source": []
  }
 ],
 "metadata": {
  "kernelspec": {
   "display_name": "Python 3 (ipykernel)",
   "language": "python",
   "name": "python3"
  },
  "language_info": {
   "codemirror_mode": {
    "name": "ipython",
    "version": 3
   },
   "file_extension": ".py",
   "mimetype": "text/x-python",
   "name": "python",
   "nbconvert_exporter": "python",
   "pygments_lexer": "ipython3",
   "version": "3.10.9"
  }
 },
 "nbformat": 4,
 "nbformat_minor": 5
}
