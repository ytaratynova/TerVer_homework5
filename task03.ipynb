{
 "cells": [
  {
   "cell_type": "code",
   "execution_count": null,
   "id": "f37fd182",
   "metadata": {},
   "outputs": [],
   "source": [
    "# Проведите тест гипотезы. Продавец утверждает, что средний вес пачки печенья\n",
    "# составляет 200 г.\n",
    "# Из партии извлечена выборка из 10 пачек. Вес каждой пачки составляет:\n",
    "# 202, 203, 199, 197, 195, 201, 200, 204, 194, 190.\n",
    "# Известно, что их веса распределены нормально.\n",
    "# Верно ли утверждение продавца, если учитывать, что доверительная вероятность равна\n",
    "# 99%? (Провести двусторонний тест.)"
   ]
  },
  {
   "cell_type": "code",
   "execution_count": 13,
   "id": "1386ae22",
   "metadata": {},
   "outputs": [],
   "source": [
    "# H0: M(x) = 200\n",
    "# H1: M(x) <> 200\n"
   ]
  },
  {
   "cell_type": "code",
   "execution_count": 37,
   "id": "fc0f02f9",
   "metadata": {},
   "outputs": [],
   "source": [
    "import numpy as np\n",
    "from scipy import stats\n"
   ]
  },
  {
   "cell_type": "code",
   "execution_count": 38,
   "id": "8e2c6d7d",
   "metadata": {},
   "outputs": [
    {
     "name": "stdout",
     "output_type": "stream",
     "text": [
      "M(x) = 198.5\n",
      "std = 4.453463071962462\n"
     ]
    }
   ],
   "source": [
    "wight = np.array([202, 203, 199, 197, 195, 201, 200, 204, 194, 190])\n",
    "m = wight.mean()\n",
    "print(f'M(x) = {m}')\n",
    "std = wight.std(ddof=1)\n",
    "print(f'std = {std}')"
   ]
  },
  {
   "cell_type": "code",
   "execution_count": 39,
   "id": "8f96acef",
   "metadata": {},
   "outputs": [
    {
     "name": "stdout",
     "output_type": "stream",
     "text": [
      "-1.0651074037450896\n"
     ]
    }
   ],
   "source": [
    "t = (m - 200)/(std/np.sqrt(10))\n",
    "print(t)"
   ]
  },
  {
   "cell_type": "code",
   "execution_count": 40,
   "id": "f7fce704",
   "metadata": {},
   "outputs": [],
   "source": [
    "# находим t(кр) из t-таблицы, учитывая что область двусторонняя и число степеней свободы = 2*(n-1) = 9:\n",
    "# t(кр) = 2.878 и -2.878\n",
    "# Расчетное значение попадает в область принятия HO: средний вес пачки печенья = 200 г\n"
   ]
  },
  {
   "cell_type": "code",
   "execution_count": 42,
   "id": "fe37cf8f",
   "metadata": {},
   "outputs": [
    {
     "data": {
      "text/plain": [
       "(-2.8784404727135864, 2.878440472713585)"
      ]
     },
     "execution_count": 42,
     "metadata": {},
     "output_type": "execute_result"
    }
   ],
   "source": [
    "# проверка\n",
    "alpha = 0.01\n",
    "n = 10\n",
    "t1 = stats.t.ppf(alpha/2, df=2*(n-1))\n",
    "t2 = stats.t.ppf(1-alpha/2, df=2*(n-1))\n",
    "t1, t2"
   ]
  },
  {
   "cell_type": "code",
   "execution_count": null,
   "id": "157652ca",
   "metadata": {},
   "outputs": [],
   "source": [
    "# Расчетное значение попадает в область принятия HO: средний вес пачки печенья = 200 г"
   ]
  }
 ],
 "metadata": {
  "kernelspec": {
   "display_name": "Python 3 (ipykernel)",
   "language": "python",
   "name": "python3"
  },
  "language_info": {
   "codemirror_mode": {
    "name": "ipython",
    "version": 3
   },
   "file_extension": ".py",
   "mimetype": "text/x-python",
   "name": "python",
   "nbconvert_exporter": "python",
   "pygments_lexer": "ipython3",
   "version": "3.10.9"
  }
 },
 "nbformat": 4,
 "nbformat_minor": 5
}
